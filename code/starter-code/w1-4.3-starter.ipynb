{
 "cells": [
  {
   "cell_type": "code",
   "execution_count": 41,
   "metadata": {
    "collapsed": false
   },
   "outputs": [
    {
     "name": "stdout",
     "output_type": "stream",
     "text": [
      "[  0   1   2   3   4   5   6   7   8   9  10  11  12  13  14  15  16  17\n",
      "  18  19  20  21  22  23  24  25  26  27  28  29  30  31  32  33  34  35\n",
      "  36  37  38  39  40  41  42  43  44  45  46  47  48  49  50  51  52  53\n",
      "  54  55  56  57  58  59  60  61  62  63  64  65  66  67  68  69  70  71\n",
      "  72  73  74  75  76  77  78  79  80  81  82  83  84  85  86  87  88  89\n",
      "  90  91  92  93  94  95  96  97  98  99 100]\n"
     ]
    }
   ],
   "source": [
    "import numpy as np \n",
    "import math \n",
    "\n",
    "# create an array\n",
    "ds = np.array(range(0,101))\n",
    "print ary"
   ]
  },
  {
   "cell_type": "code",
   "execution_count": 42,
   "metadata": {
    "collapsed": false
   },
   "outputs": [
    {
     "name": "stdout",
     "output_type": "stream",
     "text": [
      "850.0\n",
      "850.0\n",
      "850.0\n"
     ]
    }
   ],
   "source": [
    "# Write a function that computes the variance\n",
    "# Compare your function results with numpy results\n",
    "\n",
    "def vari(ds):\n",
    "    summ = 0\n",
    "    varience = 0 \n",
    "    for i in ds:\n",
    "        summ += float(i)\n",
    "        avg = summ / len(ds)\n",
    "    for i in ds:\n",
    "        varience += ((i-avg)**2)\n",
    "    varience /= len(ds)\n",
    "    return varience\n",
    "\n",
    "print vari(ary)\n",
    "print np.var(ary)\n",
    "\n",
    "\n",
    "print sum([(x-np.mean(ds))**2 for x in ds])/ float(len(ds))"
   ]
  },
  {
   "cell_type": "code",
   "execution_count": 46,
   "metadata": {
    "collapsed": false
   },
   "outputs": [
    {
     "name": "stdout",
     "output_type": "stream",
     "text": [
      "29.1547594742\n",
      "29.1547594742\n"
     ]
    }
   ],
   "source": [
    "# Write a function that computes the standard deviation and \n",
    "# compare your function results with numpy equivalents. \n",
    "\n",
    "print vari(ary) **(0.5)\n",
    "print np.std(ary)"
   ]
  },
  {
   "cell_type": "code",
   "execution_count": null,
   "metadata": {
    "collapsed": true
   },
   "outputs": [],
   "source": []
  }
 ],
 "metadata": {
  "anaconda-cloud": {},
  "kernelspec": {
   "display_name": "Python [default]",
   "language": "python",
   "name": "python2"
  },
  "language_info": {
   "codemirror_mode": {
    "name": "ipython",
    "version": 2
   },
   "file_extension": ".py",
   "mimetype": "text/x-python",
   "name": "python",
   "nbconvert_exporter": "python",
   "pygments_lexer": "ipython2",
   "version": "2.7.12"
  }
 },
 "nbformat": 4,
 "nbformat_minor": 0
}
